{
  "nbformat": 4,
  "nbformat_minor": 0,
  "metadata": {
    "colab": {
      "provenance": [],
      "collapsed_sections": []
    },
    "kernelspec": {
      "name": "python3",
      "display_name": "Python 3"
    },
    "language_info": {
      "name": "python"
    }
  },
  "cells": [
    {
      "cell_type": "code",
      "execution_count": 132,
      "metadata": {
        "colab": {
          "base_uri": "https://localhost:8080/"
        },
        "id": "GO0MGqI4Ki7f",
        "outputId": "d575802a-50f9-41a2-f97a-5472e205fbc4"
      },
      "outputs": [
        {
          "output_type": "stream",
          "name": "stdout",
          "text": [
            "Looking in indexes: https://pypi.org/simple, https://us-python.pkg.dev/colab-wheels/public/simple/\n",
            "Requirement already satisfied: speechrecognition in /usr/local/lib/python3.7/dist-packages (3.8.1)\n"
          ]
        }
      ],
      "source": [
        "pip install speechrecognition\n",
        "pip install gtts"
      ]
    },
    {
      "cell_type": "code",
      "source": [
        "from google.colab import drive\n",
        "drive.mount('/content/drive', force_remount=True)\n",
        "from pandas.core.indexes.interval import le\n",
        "import speech_recognition as sr\n",
        "from numpy import less_equal\n",
        "from gtts import gTTS\n",
        "import pandas as pd\n",
        "import os"
      ],
      "metadata": {
        "colab": {
          "base_uri": "https://localhost:8080/"
        },
        "id": "U0cmhXcuVOXN",
        "outputId": "c540ccc0-6e38-448c-b74b-a5179c07e02f"
      },
      "execution_count": 148,
      "outputs": [
        {
          "output_type": "stream",
          "name": "stdout",
          "text": [
            "Mounted at /content/drive\n"
          ]
        }
      ]
    },
    {
      "cell_type": "code",
      "source": [
        "#!ls \"/content/drive/My Drive\""
      ],
      "metadata": {
        "id": "rHVUTzTya4bF"
      },
      "execution_count": 157,
      "outputs": []
    },
    {
      "cell_type": "code",
      "source": [
        "def parseSentencesIntoWords(ListOfSentences):\n",
        "\n",
        "  splitSentences = []\n",
        "\n",
        "  for sentence in ListOfSentences:\n",
        "\n",
        "    listOfWords = sentence.split()\n",
        "    print(listOfWords)\n",
        "    splitSentences.append(listOfWords)\n",
        "\n",
        "  matchWordsToKeywords(splitSentences)\n",
        "  \n",
        "  '''\n",
        "  for keyword in keywords:\n",
        "\n",
        "    print(keyword)\n",
        "  '''"
      ],
      "metadata": {
        "id": "atvP34C2CUeO"
      },
      "execution_count": 135,
      "outputs": []
    },
    {
      "cell_type": "code",
      "source": [
        "#!ffmpeg -i '/content/drive/My Drive/mrecording.m4a' '/content/drive/My Drive/mrecording.wav'"
      ],
      "metadata": {
        "id": "aCcLrTECQWMB"
      },
      "execution_count": 136,
      "outputs": []
    },
    {
      "cell_type": "code",
      "source": [
        "def obtainKeywordList():\n",
        "\n",
        "  keywords = ['shelter',\n",
        "              'orange',\n",
        "              'lee',\n",
        "              'county']\n",
        "\n",
        "  return keywords"
      ],
      "metadata": {
        "id": "rqgE8SWb94xk"
      },
      "execution_count": 150,
      "outputs": []
    },
    {
      "cell_type": "code",
      "source": [
        "def convertSentencesToWavFiles(returnSentenceList):\n",
        "  for i in range(0, len(returnSentenceList)):\n",
        "    mytext = returnSentenceList[i]\n",
        "    print(mytext)\n",
        "    language = 'en'\n",
        "    myobj = gTTS(text=mytext, lang=language, slow=False)\n",
        "    theFile = '/content/drive/My Drive/welcome' + str(i) + '.wav'\n",
        "    myobj.save(theFile)"
      ],
      "metadata": {
        "id": "ihyGdFd7Ev7U"
      },
      "execution_count": 152,
      "outputs": []
    },
    {
      "cell_type": "code",
      "source": [
        "'''\n",
        "from gtts import gTTS\n",
        "import os\n",
        "mytext = \"Welcome to room 405\"\n",
        "language = 'en'\n",
        "myobj = gTTS(text=mytext, lang=language, slow=False)\n",
        "myobj.save('/content/drive/My Drive/welcome.mp3')\n",
        "'''"
      ],
      "metadata": {
        "colab": {
          "base_uri": "https://localhost:8080/",
          "height": 71
        },
        "id": "5PL9zW8FG7hA",
        "outputId": "58501b9f-84ea-4f0e-d3aa-299e9c13cce1"
      },
      "execution_count": 153,
      "outputs": [
        {
          "output_type": "execute_result",
          "data": {
            "text/plain": [
              "'\\nfrom gtts import gTTS\\nimport os\\nmytext = \"Welcome to room 405\"\\nlanguage = \\'en\\'\\nmyobj = gTTS(text=mytext, lang=language, slow=False)\\nmyobj.save(\\'/content/drive/My Drive/welcome.mp3\\')\\n'"
            ],
            "application/vnd.google.colaboratory.intrinsic+json": {
              "type": "string"
            }
          },
          "metadata": {},
          "execution_count": 153
        }
      ]
    },
    {
      "cell_type": "code",
      "source": [
        "def matchWordsToKeywords(splitSentences):\n",
        "\n",
        "  shelterDataDF = pd.read_csv('/content/drive/My Drive/shelters2.csv')\n",
        "\n",
        "  keywords = obtainKeywordList()\n",
        "\n",
        "  returnSentenceList = []\n",
        "\n",
        "  returnSentence = ''\n",
        "\n",
        "  for sentence in splitSentences:\n",
        "\n",
        "    for i in range(0, len(sentence)):\n",
        "\n",
        "      if (sentence[i] in keywords):\n",
        "        \n",
        "        if (sentence[i] == 'county'):\n",
        "\n",
        "          countyName = sentence[i-1].capitalize()\n",
        "          countyName = countyName + ' County'\n",
        "          #print(countyName)\n",
        "          queryCounty = countyName\n",
        "          df = pd.DataFrame(shelterDataDF, columns=['county', 'label'])\n",
        "          containsValues = df[df['county'].str.contains(queryCounty)]\n",
        "          #print(containsValues)\n",
        "          \n",
        "          if (len(df[df['county']==queryCounty]['label']) > 1):\n",
        "            answer = df[df['county']==queryCounty]['label'].tolist()\n",
        "            \n",
        "            answerLength = len(answer)\n",
        "            counter = 0\n",
        "            for item in answer:\n",
        "              counter+=1\n",
        "              if (counter == answerLength):\n",
        "                returnSentence = returnSentence + item\n",
        "              else:\n",
        "                returnSentence = returnSentence + item + ' and '\n",
        "            \n",
        "            returnSentence = returnSentence + ' are the shelters in ' + countyName + '. Please make your way to one of them carefully.'\n",
        "          else:\n",
        "            answer = df[df['county']==queryCounty]['label'].item()\n",
        "            returnSentence = returnSentence + answer\n",
        "            returnSentence = returnSentence + ' is the only shelter in ' + countyName + '. Please make your way there carefully.'\n",
        "          \n",
        "          returnSentenceList.append(returnSentence)\n",
        "          returnSentence = ''\n",
        "\n",
        "  print(returnSentenceList)\n",
        "  convertSentencesToWavFiles(returnSentenceList)\n",
        "\n",
        "# gtts for text to speech\n"
      ],
      "metadata": {
        "id": "hzkFfVHb95T6"
      },
      "execution_count": 154,
      "outputs": []
    },
    {
      "cell_type": "code",
      "source": [
        "def main():\n",
        "  \n",
        "  speechFiles = []\n",
        "\n",
        "  speechFile1 = '/content/drive/My Drive/emergencyCall2.wav'\n",
        "\n",
        "  speechFile2 = '/content/drive/My Drive/mrecording.wav'\n",
        "\n",
        "  speechFile3 = '/content/drive/My Drive/jrecording.wav'\n",
        "\n",
        "  speechFiles.append(speechFile1)\n",
        "  speechFiles.append(speechFile2)\n",
        "  speechFiles.append(speechFile3)\n",
        "\n",
        "  audioConvertedToTextFiles = []\n",
        "\n",
        "  r = sr.Recognizer()\n",
        "\n",
        "  for speechFile in speechFiles:\n",
        "\n",
        "    with sr.AudioFile(speechFile) as source:\n",
        "\n",
        "      audio_data = r.record(source)\n",
        "\n",
        "      text = r.recognize_google(audio_data).lower()\n",
        "\n",
        "      audioConvertedToTextFiles.append(text)\n",
        "\n",
        "      print(text)\n",
        "\n",
        "  parseSentencesIntoWords(audioConvertedToTextFiles)"
      ],
      "metadata": {
        "id": "5gC4pTdhCawA"
      },
      "execution_count": 155,
      "outputs": []
    },
    {
      "cell_type": "code",
      "source": [
        "main()"
      ],
      "metadata": {
        "colab": {
          "base_uri": "https://localhost:8080/"
        },
        "id": "MB1AWG85QzKj",
        "outputId": "b55d7431-94c6-4628-aebf-208551e3069b"
      },
      "execution_count": 156,
      "outputs": [
        {
          "output_type": "stream",
          "name": "stdout",
          "text": [
            "help i need shelter\n",
            "help i need a shelter i live in lee county\n",
            "my dog and i need a shelter we live in orange county\n",
            "['help', 'i', 'need', 'shelter']\n",
            "['help', 'i', 'need', 'a', 'shelter', 'i', 'live', 'in', 'lee', 'county']\n",
            "['my', 'dog', 'and', 'i', 'need', 'a', 'shelter', 'we', 'live', 'in', 'orange', 'county']\n",
            "['Hertz Arena and Estero Recreation Center are the shelters in Lee County. Please make your way to one of them carefully.', 'Little Econ Park is the only shelter in Orange County. Please make your way there carefully.']\n",
            "Hertz Arena and Estero Recreation Center are the shelters in Lee County. Please make your way to one of them carefully.\n",
            "Little Econ Park is the only shelter in Orange County. Please make your way there carefully.\n"
          ]
        }
      ]
    }
  ]
}