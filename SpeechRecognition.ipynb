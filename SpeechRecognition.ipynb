{
  "nbformat": 4,
  "nbformat_minor": 0,
  "metadata": {
    "colab": {
      "provenance": [],
      "collapsed_sections": []
    },
    "kernelspec": {
      "name": "python3",
      "display_name": "Python 3"
    },
    "language_info": {
      "name": "python"
    }
  },
  "cells": [
    {
      "cell_type": "code",
      "execution_count": 85,
      "metadata": {
        "colab": {
          "base_uri": "https://localhost:8080/"
        },
        "id": "GO0MGqI4Ki7f",
        "outputId": "dea88d38-eda6-47d6-af83-1abed92022ea"
      },
      "outputs": [
        {
          "output_type": "stream",
          "name": "stdout",
          "text": [
            "Looking in indexes: https://pypi.org/simple, https://us-python.pkg.dev/colab-wheels/public/simple/\n",
            "Requirement already satisfied: speechrecognition in /usr/local/lib/python3.7/dist-packages (3.8.1)\n"
          ]
        }
      ],
      "source": [
        "pip install speechrecognition"
      ]
    },
    {
      "cell_type": "code",
      "source": [
        "from google.colab import drive\n",
        "drive.mount('/content/drive', force_remount=True)\n",
        "from pandas.core.indexes.interval import le\n",
        "import speech_recognition as sr\n",
        "from numpy import less_equal\n",
        "from gtts import gTTS\n",
        "import pandas as pd\n",
        "import os"
      ],
      "metadata": {
        "colab": {
          "base_uri": "https://localhost:8080/"
        },
        "id": "U0cmhXcuVOXN",
        "outputId": "f6f65de7-6a0d-4c90-a811-5b234465a1fa"
      },
      "execution_count": 86,
      "outputs": [
        {
          "output_type": "stream",
          "name": "stdout",
          "text": [
            "Mounted at /content/drive\n"
          ]
        }
      ]
    },
    {
      "cell_type": "code",
      "source": [
        "!ls \"/content/drive/My Drive\""
      ],
      "metadata": {
        "colab": {
          "base_uri": "https://localhost:8080/"
        },
        "id": "rHVUTzTya4bF",
        "outputId": "b8daa2b2-80fc-42d7-c8e6-ed38d1428096"
      },
      "execution_count": 87,
      "outputs": [
        {
          "output_type": "stream",
          "name": "stdout",
          "text": [
            "'Ciara & Morgan Schedule.gsheet'        Old\n",
            " ClientListNoEmail.gsheet\t        OptOutList.gsheet\n",
            "'Colab Notebooks'\t\t       'Quote Load Board.gsheet'\n",
            " ColoradoList.gsheet\t\t        Quotes.gsheet\n",
            "'commentary data.gsheet'\t        radiohelp-samples.wav\n",
            " CRM.gsheet\t\t\t        RegularClients.gsheet\n",
            " CyberTraining\t\t\t        Scheduling\n",
            " EmailSoftwareFiles\t\t        shelters.csv\n",
            " emergencyCall2.m4a\t\t        SolarSystemDimensions.gsheet\n",
            " emergencyCall2.wav\t\t        StockTradingToolsComparison.gsheet\n",
            " HandScrapingList.gsheet\t       \"Taty's Treats\"\n",
            "'High Points and National Parks.gmap'  'Training Material'\n",
            "'Industry Websites.gsheet'\t       'Untitled map (1).gmap'\n",
            " jenRecording.m4a\t\t       'Untitled map (2).gmap'\n",
            " jenRecording.wav\t\t       'Untitled map.gmap'\n",
            " jrecording.m4a\t\t\t       'Untitled spreadsheet.gsheet'\n",
            " jrecording.wav\t\t\t        WebScrapingList.gsheet\n",
            " morganRecording.m4a\t\t        welcome0.mp3\n",
            " morganRecording.wav\t\t        welcome0.wav\n",
            "\"Morgan's Budget 2.gsheet\"\t        welcome1.mp3\n",
            " mrecording.m4a\t\t\t        welcome1.wav\n",
            " mrecording.wav\t\t\t        welcome2.mp3\n",
            " nasdaq_screener.csv\t\t        welcome.mp3\n",
            "'North Carolina.gmap'\n"
          ]
        }
      ]
    },
    {
      "cell_type": "code",
      "source": [
        "def parseSentencesIntoWords(ListOfSentences):\n",
        "\n",
        "  splitSentences = []\n",
        "\n",
        "  for sentence in ListOfSentences:\n",
        "\n",
        "    listOfWords = sentence.split()\n",
        "    print(listOfWords)\n",
        "    splitSentences.append(listOfWords)\n",
        "\n",
        "  matchWordsToKeywords(splitSentences)\n",
        "  \n",
        "  '''\n",
        "  for keyword in keywords:\n",
        "\n",
        "    print(keyword)\n",
        "  '''"
      ],
      "metadata": {
        "id": "atvP34C2CUeO"
      },
      "execution_count": 88,
      "outputs": []
    },
    {
      "cell_type": "code",
      "source": [
        "#!ffmpeg -i '/content/drive/My Drive/mrecording.m4a' '/content/drive/My Drive/mrecording.wav'"
      ],
      "metadata": {
        "id": "aCcLrTECQWMB"
      },
      "execution_count": 89,
      "outputs": []
    },
    {
      "cell_type": "code",
      "source": [
        "def obtainKeywordList():\n",
        "\n",
        "  keywords = ['shelter',\n",
        "              'orange',\n",
        "              'lee',\n",
        "              'county']\n",
        "\n",
        "  return keywords"
      ],
      "metadata": {
        "id": "rqgE8SWb94xk"
      },
      "execution_count": 90,
      "outputs": []
    },
    {
      "cell_type": "code",
      "source": [
        "pip install gtts"
      ],
      "metadata": {
        "colab": {
          "base_uri": "https://localhost:8080/"
        },
        "id": "l_zr160BE9Jx",
        "outputId": "732fd88b-f859-4b6a-ba9d-3c8344820a9b"
      },
      "execution_count": 91,
      "outputs": [
        {
          "output_type": "stream",
          "name": "stdout",
          "text": [
            "Looking in indexes: https://pypi.org/simple, https://us-python.pkg.dev/colab-wheels/public/simple/\n",
            "Requirement already satisfied: gtts in /usr/local/lib/python3.7/dist-packages (2.2.4)\n",
            "Requirement already satisfied: requests in /usr/local/lib/python3.7/dist-packages (from gtts) (2.23.0)\n",
            "Requirement already satisfied: click in /usr/local/lib/python3.7/dist-packages (from gtts) (7.1.2)\n",
            "Requirement already satisfied: six in /usr/local/lib/python3.7/dist-packages (from gtts) (1.15.0)\n",
            "Requirement already satisfied: certifi>=2017.4.17 in /usr/local/lib/python3.7/dist-packages (from requests->gtts) (2022.9.24)\n",
            "Requirement already satisfied: idna<3,>=2.5 in /usr/local/lib/python3.7/dist-packages (from requests->gtts) (2.10)\n",
            "Requirement already satisfied: urllib3!=1.25.0,!=1.25.1,<1.26,>=1.21.1 in /usr/local/lib/python3.7/dist-packages (from requests->gtts) (1.24.3)\n",
            "Requirement already satisfied: chardet<4,>=3.0.2 in /usr/local/lib/python3.7/dist-packages (from requests->gtts) (3.0.4)\n"
          ]
        }
      ]
    },
    {
      "cell_type": "code",
      "source": [
        "def convertSentencesToWavFiles(returnSentenceList):\n",
        "  for i in range(0, len(returnSentenceList)):\n",
        "    mytext = returnSentenceList[i]\n",
        "    print(mytext)\n",
        "    language = 'en'\n",
        "    myobj = gTTS(text=mytext, lang=language, slow=False)\n",
        "    theFile = '/content/drive/My Drive/welcome' + str(i) + '.wav'\n",
        "    myobj.save(theFile)"
      ],
      "metadata": {
        "id": "ihyGdFd7Ev7U"
      },
      "execution_count": 92,
      "outputs": []
    },
    {
      "cell_type": "code",
      "source": [
        "'''\n",
        "from gtts import gTTS\n",
        "import os\n",
        "mytext = \"Welcome to room 405\"\n",
        "language = 'en'\n",
        "myobj = gTTS(text=mytext, lang=language, slow=False)\n",
        "myobj.save('/content/drive/My Drive/welcome.mp3')\n",
        "'''"
      ],
      "metadata": {
        "colab": {
          "base_uri": "https://localhost:8080/",
          "height": 71
        },
        "id": "5PL9zW8FG7hA",
        "outputId": "fea4a81f-3fe6-4807-ad1a-088030ff2834"
      },
      "execution_count": 93,
      "outputs": [
        {
          "output_type": "execute_result",
          "data": {
            "text/plain": [
              "'\\nfrom gtts import gTTS\\nimport os\\nmytext = \"Welcome to room 405\"\\nlanguage = \\'en\\'\\nmyobj = gTTS(text=mytext, lang=language, slow=False)\\nmyobj.save(\\'/content/drive/My Drive/welcome.mp3\\')\\n'"
            ],
            "application/vnd.google.colaboratory.intrinsic+json": {
              "type": "string"
            }
          },
          "metadata": {},
          "execution_count": 93
        }
      ]
    },
    {
      "cell_type": "code",
      "source": [
        "def matchWordsToKeywords(splitSentences):\n",
        "\n",
        "  keywords = obtainKeywordList()\n",
        "\n",
        "  returnSentenceList = []\n",
        "\n",
        "  returnSentence = ''\n",
        "\n",
        "  for sentence in splitSentences:\n",
        "\n",
        "    for i in range(0, len(sentence)):\n",
        "\n",
        "      if (sentence[i] in keywords):\n",
        "        \n",
        "        if (sentence[i] == 'county'):\n",
        "\n",
        "          countyName = sentence[i-1].capitalize()\n",
        "          countyName = countyName + ' County'\n",
        "          #print(countyName)\n",
        "          queryCounty = countyName\n",
        "          df = pd.DataFrame(shelterDataDF, columns=['county', 'label'])\n",
        "          containsValues = df[df['county'].str.contains(queryCounty)]\n",
        "          #print(containsValues)\n",
        "          \n",
        "          if (len(df[df['county']==queryCounty]['label']) > 1):\n",
        "            answer = df[df['county']==queryCounty]['label'].tolist()\n",
        "            \n",
        "            answerLength = len(answer)\n",
        "            counter = 0\n",
        "            for item in answer:\n",
        "              counter+=1\n",
        "              if (counter == answerLength):\n",
        "                returnSentence = returnSentence + item\n",
        "              else:\n",
        "                returnSentence = returnSentence + item + ' and '\n",
        "            \n",
        "            returnSentence = returnSentence + ' are the shelters in ' + countyName + '. Please make your way to one of them carefully.'\n",
        "          else:\n",
        "            answer = df[df['county']==queryCounty]['label'].item()\n",
        "            returnSentence = returnSentence + answer\n",
        "            returnSentence = returnSentence + ' is the only shelter in ' + countyName + '. Please make your way there carefully.'\n",
        "          \n",
        "          returnSentenceList.append(returnSentence)\n",
        "          returnSentence = ''\n",
        "\n",
        "  print(returnSentenceList)\n",
        "  convertSentencesToWavFiles(returnSentenceList)\n",
        "\n",
        "# gtts for text to speech\n"
      ],
      "metadata": {
        "id": "hzkFfVHb95T6"
      },
      "execution_count": 94,
      "outputs": []
    },
    {
      "cell_type": "code",
      "source": [
        "def main():\n",
        "\n",
        "  shelterDataDF = pd.read_csv('/content/drive/My Drive/shelters.csv')\n",
        "  \n",
        "  speechFiles = []\n",
        "\n",
        "  speechFile1 = '/content/drive/My Drive/emergencyCall2.wav'\n",
        "\n",
        "  speechFile2 = '/content/drive/My Drive/mrecording.wav'\n",
        "\n",
        "  speechFile3 = '/content/drive/My Drive/jrecording.wav'\n",
        "\n",
        "  speechFiles.append(speechFile1)\n",
        "  speechFiles.append(speechFile2)\n",
        "  speechFiles.append(speechFile3)\n",
        "\n",
        "  audioConvertedToTextFiles = []\n",
        "\n",
        "  r = sr.Recognizer()\n",
        "\n",
        "  for speechFile in speechFiles:\n",
        "\n",
        "    with sr.AudioFile(speechFile) as source:\n",
        "\n",
        "      audio_data = r.record(source)\n",
        "\n",
        "      text = r.recognize_google(audio_data).lower()\n",
        "\n",
        "      audioConvertedToTextFiles.append(text)\n",
        "\n",
        "      print(text)\n",
        "\n",
        "  parseSentencesIntoWords(audioConvertedToTextFiles)"
      ],
      "metadata": {
        "id": "5gC4pTdhCawA"
      },
      "execution_count": 95,
      "outputs": []
    },
    {
      "cell_type": "code",
      "source": [
        "main()"
      ],
      "metadata": {
        "colab": {
          "base_uri": "https://localhost:8080/"
        },
        "id": "MB1AWG85QzKj",
        "outputId": "d7585b0b-476e-4bf1-f9d3-d3d9807970e8"
      },
      "execution_count": 96,
      "outputs": [
        {
          "output_type": "stream",
          "name": "stdout",
          "text": [
            "help i need shelter\n",
            "help i need a shelter i live in lee county\n",
            "my dog and i need a shelter we live in orange county\n",
            "['help', 'i', 'need', 'shelter']\n",
            "['help', 'i', 'need', 'a', 'shelter', 'i', 'live', 'in', 'lee', 'county']\n",
            "['my', 'dog', 'and', 'i', 'need', 'a', 'shelter', 'we', 'live', 'in', 'orange', 'county']\n",
            "['Hertz Arena and Estero Rec. Center are the shelters in Lee County. Please make your way to one of them carefully.', 'Little Econ Park is the only shelter in Orange County. Please make your way there carefully.']\n",
            "Hertz Arena and Estero Rec. Center are the shelters in Lee County. Please make your way to one of them carefully.\n",
            "Little Econ Park is the only shelter in Orange County. Please make your way there carefully.\n"
          ]
        }
      ]
    }
  ]
}